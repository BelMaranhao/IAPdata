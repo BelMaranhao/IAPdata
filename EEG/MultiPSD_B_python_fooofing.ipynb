{
 "cells": [
  {
   "cell_type": "markdown",
   "metadata": {},
   "source": [
    "# Mat->Py->Mat Multi PSD Example\n",
    "\n",
    "This notebook is an example, with multiple power spectra, of integrating Python FOOOF into a Matlab workflow. \n",
    "\n",
    "It is part of a trio of files that must be run in order:\n",
    "- `MultiPSD_A_*\n",
    "- `MultiPSD_B_*\n",
    "- `MultiPSD_C_*\n",
    "\n",
    "This code must be run after `MultiPSD_A_matlab_preprocessing.m` has been run. "
   ]
  },
  {
   "cell_type": "code",
   "execution_count": 26,
   "metadata": {
    "scrolled": true
   },
   "outputs": [
    {
     "name": "stdout",
     "output_type": "stream",
     "text": [
      "[  0.          0.9765625   1.953125    2.9296875   3.90625     4.8828125\n",
      "   5.859375    6.8359375   7.8125      8.7890625   9.765625   10.7421875\n",
      "  11.71875    12.6953125  13.671875   14.6484375  15.625      16.6015625\n",
      "  17.578125   18.5546875  19.53125    20.5078125  21.484375   22.4609375\n",
      "  23.4375     24.4140625  25.390625   26.3671875  27.34375    28.3203125\n",
      "  29.296875   30.2734375  31.25       32.2265625  33.203125   34.1796875\n",
      "  35.15625    36.1328125  37.109375   38.0859375  39.0625     40.0390625\n",
      "  41.015625   41.9921875  42.96875    43.9453125  44.921875   45.8984375\n",
      "  46.875      47.8515625  48.828125   49.8046875  50.78125    51.7578125\n",
      "  52.734375   53.7109375  54.6875     55.6640625  56.640625   57.6171875\n",
      "  58.59375    59.5703125  60.546875   61.5234375  62.5        63.4765625\n",
      "  64.453125   65.4296875  66.40625    67.3828125  68.359375   69.3359375\n",
      "  70.3125     71.2890625  72.265625   73.2421875  74.21875    75.1953125\n",
      "  76.171875   77.1484375  78.125      79.1015625  80.078125   81.0546875\n",
      "  82.03125    83.0078125  83.984375   84.9609375  85.9375     86.9140625\n",
      "  87.890625   88.8671875  89.84375    90.8203125  91.796875   92.7734375\n",
      "  93.75       94.7265625  95.703125   96.6796875  97.65625    98.6328125\n",
      "  99.609375  100.5859375 101.5625    102.5390625 103.515625  104.4921875\n",
      " 105.46875   106.4453125 107.421875  108.3984375 109.375     110.3515625\n",
      " 111.328125  112.3046875 113.28125   114.2578125 115.234375  116.2109375\n",
      " 117.1875    118.1640625 119.140625  120.1171875 121.09375   122.0703125\n",
      " 123.046875  124.0234375 125.        125.9765625 126.953125  127.9296875\n",
      " 128.90625   129.8828125 130.859375  131.8359375 132.8125    133.7890625\n",
      " 134.765625  135.7421875 136.71875   137.6953125 138.671875  139.6484375\n",
      " 140.625     141.6015625 142.578125  143.5546875 144.53125   145.5078125\n",
      " 146.484375  147.4609375 148.4375    149.4140625 150.390625  151.3671875\n",
      " 152.34375   153.3203125 154.296875  155.2734375 156.25      157.2265625\n",
      " 158.203125  159.1796875 160.15625   161.1328125 162.109375  163.0859375\n",
      " 164.0625    165.0390625 166.015625  166.9921875 167.96875   168.9453125\n",
      " 169.921875  170.8984375 171.875     172.8515625 173.828125  174.8046875\n",
      " 175.78125   176.7578125 177.734375  178.7109375 179.6875    180.6640625\n",
      " 181.640625  182.6171875 183.59375   184.5703125 185.546875  186.5234375\n",
      " 187.5       188.4765625 189.453125  190.4296875 191.40625   192.3828125\n",
      " 193.359375  194.3359375 195.3125    196.2890625 197.265625  198.2421875\n",
      " 199.21875   200.1953125 201.171875  202.1484375 203.125     204.1015625\n",
      " 205.078125  206.0546875 207.03125   208.0078125 208.984375  209.9609375\n",
      " 210.9375    211.9140625 212.890625  213.8671875 214.84375   215.8203125\n",
      " 216.796875  217.7734375 218.75      219.7265625 220.703125  221.6796875\n",
      " 222.65625   223.6328125 224.609375  225.5859375 226.5625    227.5390625\n",
      " 228.515625  229.4921875 230.46875   231.4453125 232.421875  233.3984375\n",
      " 234.375     235.3515625 236.328125  237.3046875 238.28125   239.2578125\n",
      " 240.234375  241.2109375 242.1875    243.1640625 244.140625  245.1171875\n",
      " 246.09375   247.0703125 248.046875  249.0234375 250.       ]\n"
     ]
    }
   ],
   "source": [
    "print(freqs)"
   ]
  },
  {
   "cell_type": "code",
   "execution_count": 1,
   "metadata": {},
   "outputs": [
    {
     "ename": "AttributeError",
     "evalue": "module 'fooof' has no attribute 'peak_params_'",
     "output_type": "error",
     "traceback": [
      "\u001b[1;31m---------------------------------------------------------------------------\u001b[0m",
      "\u001b[1;31mAttributeError\u001b[0m                            Traceback (most recent call last)",
      "\u001b[1;32m<ipython-input-1-210bda24d6a1>\u001b[0m in \u001b[0;36m<module>\u001b[1;34m\u001b[0m\n\u001b[0;32m      1\u001b[0m \u001b[1;32mimport\u001b[0m \u001b[0mfooof\u001b[0m \u001b[1;32mas\u001b[0m \u001b[0mff\u001b[0m\u001b[1;33m\u001b[0m\u001b[1;33m\u001b[0m\u001b[0m\n\u001b[1;32m----> 2\u001b[1;33m \u001b[0mIAP\u001b[0m\u001b[1;33m=\u001b[0m \u001b[0mff\u001b[0m\u001b[1;33m.\u001b[0m\u001b[0manalysis\u001b[0m\u001b[1;33m.\u001b[0m\u001b[0mget_band_peak_fm\u001b[0m\u001b[1;33m(\u001b[0m\u001b[0mff\u001b[0m\u001b[1;33m,\u001b[0m\u001b[1;33m[\u001b[0m\u001b[1;36m7\u001b[0m\u001b[1;33m,\u001b[0m\u001b[1;36m14\u001b[0m\u001b[1;33m]\u001b[0m\u001b[1;33m,\u001b[0m\u001b[0mselect_highest\u001b[0m\u001b[1;33m=\u001b[0m\u001b[1;32mTrue\u001b[0m\u001b[1;33m)\u001b[0m\u001b[1;33m\u001b[0m\u001b[1;33m\u001b[0m\u001b[0m\n\u001b[0m",
      "\u001b[1;32m~\\anaconda3\\lib\\site-packages\\fooof\\analysis\\periodic.py\u001b[0m in \u001b[0;36mget_band_peak_fm\u001b[1;34m(fm, band, select_highest, threshold, thresh_param, attribute)\u001b[0m\n\u001b[0;32m     45\u001b[0m     \"\"\"\n\u001b[0;32m     46\u001b[0m \u001b[1;33m\u001b[0m\u001b[0m\n\u001b[1;32m---> 47\u001b[1;33m     return get_band_peak(getattr(fm, attribute + '_'), band,\n\u001b[0m\u001b[0;32m     48\u001b[0m                          select_highest, threshold, thresh_param)\n\u001b[0;32m     49\u001b[0m \u001b[1;33m\u001b[0m\u001b[0m\n",
      "\u001b[1;31mAttributeError\u001b[0m: module 'fooof' has no attribute 'peak_params_'"
     ]
    }
   ],
   "source": [
    "import fooof as ff\n",
    "IAP= ff.analysis.get_band_peak_fm(ff,[7,14],select_highest=True)\n"
   ]
  },
  {
   "cell_type": "code",
   "execution_count": 2,
   "metadata": {},
   "outputs": [],
   "source": [
    "%matplotlib inline\n",
    "\n",
    "import numpy as np\n",
    "from scipy.io import loadmat, savemat\n",
    "\n",
    "from fooof import FOOOFGroup"
   ]
  },
  {
   "cell_type": "code",
   "execution_count": 3,
   "metadata": {},
   "outputs": [],
   "source": [
    "# Load the mat file \n",
    "data = loadmat('power_spectra.mat')\n",
    "\n",
    "# Unpack data from dictionary, and squeeze numpy arrays\n",
    "freqs = np.squeeze(data['freqs']).astype('float')\n",
    "psds = np.squeeze(data['psds']).astype('float')\n",
    "# ^Note: this also explicitly enforces type as float (type casts to float64, instead of float32)\n",
    "#  This is not strictly necessary for fitting, but is for saving out as json from FOOOF, if you want to do that\n",
    "\n",
    "# Transpose power spectra, to have the expected orientation for FOOOF\n",
    "psds = psds.T  "
   ]
  },
  {
   "cell_type": "code",
   "execution_count": 22,
   "metadata": {},
   "outputs": [
    {
     "ename": "NameError",
     "evalue": "name 'fm' is not defined",
     "output_type": "error",
     "traceback": [
      "\u001b[1;31m---------------------------------------------------------------------------\u001b[0m",
      "\u001b[1;31mNameError\u001b[0m                                 Traceback (most recent call last)",
      "\u001b[1;32m<ipython-input-22-cee183034f90>\u001b[0m in \u001b[0;36m<module>\u001b[1;34m\u001b[0m\n\u001b[1;32m----> 1\u001b[1;33m \u001b[0mprint\u001b[0m\u001b[1;33m(\u001b[0m\u001b[0mfm\u001b[0m\u001b[1;33m)\u001b[0m\u001b[1;33m\u001b[0m\u001b[1;33m\u001b[0m\u001b[0m\n\u001b[0m",
      "\u001b[1;31mNameError\u001b[0m: name 'fm' is not defined"
     ]
    }
   ],
   "source": [
    "print(fm)"
   ]
  },
  {
   "cell_type": "code",
   "execution_count": 4,
   "metadata": {},
   "outputs": [],
   "source": [
    "# Initialize FOOOFGroup object\n",
    "fg = FOOOFGroup()"
   ]
  },
  {
   "cell_type": "code",
   "execution_count": 5,
   "metadata": {},
   "outputs": [
    {
     "name": "stdout",
     "output_type": "stream",
     "text": [
      "Running FOOOFGroup across 2 power spectra.\n",
      "\n",
      "FOOOF WARNING: Lower-bound peak width limit is < or ~= the frequency resolution: 0.98 <= 0.50\n",
      "\tLower bounds below frequency-resolution have no effect (effective lower bound is the frequency resolution).\n",
      "\tToo low a limit may lead to overfitting noise as small bandwidth peaks.\n",
      "\tWe recommend a lower bound of approximately 2x the frequency resolution.\n",
      "\n",
      "==================================================================================================\n",
      "                                                                                                  \n",
      "                                       FOOOF - GROUP RESULTS                                      \n",
      "                                                                                                  \n",
      "                             Number of power spectra in the Group: 2                              \n",
      "                                                                                                  \n",
      "                        The model was run on the frequency range 1 - 30 Hz                        \n",
      "                                 Frequency Resolution is 0.98 Hz                                  \n",
      "                                                                                                  \n",
      "                              Power spectra were fit without a knee.                              \n",
      "                                                                                                  \n",
      "                                      Aperiodic Fit Values:                                       \n",
      "                        Exponents - Min:  1.637, Max:  1.769, Mean: 1.703                         \n",
      "                                                                                                  \n",
      "                          In total 5 peaks were extracted from the group                          \n",
      "                                                                                                  \n",
      "                                     Goodness of fit metrics:                                     \n",
      "                            R2s -  Min:  0.979, Max:  0.988, Mean: 0.984                          \n",
      "                         Errors -  Min:  0.066, Max:  0.078, Mean: 0.072                          \n",
      "                                                                                                  \n",
      "==================================================================================================\n"
     ]
    },
    {
     "data": {
      "image/png": "[encoded data removed]",
      "text/plain": [
       "<Figure size 864x720 with 4 Axes>"
      ]
     },
     "metadata": {
      "needs_background": "light"
     },
     "output_type": "display_data"
    }
   ],
   "source": [
    "# Fit the FOOOF model on all PSDs, and report\n",
    "fg.report(freqs, psds, [1, 30])"
   ]
  },
  {
   "cell_type": "code",
   "execution_count": 7,
   "metadata": {},
   "outputs": [],
   "source": [
    "# Save out a specific FOOOF measure of interest - for example, slopes\n",
    "exps = fg.get_params('aperiodic_params', 'exponent')\n",
    "savemat('exps.mat', {'exps' : exps})"
   ]
  },
  {
   "cell_type": "code",
   "execution_count": 8,
   "metadata": {},
   "outputs": [],
   "source": [
    "# Save out fooof results to json file\n",
    "#  There is a utility file to load this json file directly into Matlab\n",
    "fg.save('fooof_results', save_results=True)"
   ]
  },
  {
   "cell_type": "code",
   "execution_count": 20,
   "metadata": {},
   "outputs": [],
   "source": [
    "# Alternatively: save out full FOOOFresults for each PSD fit separately to mat files\n",
    "#  This might be useful if you are using Matlab < r2016B, and don't have json support\n",
    "for ind, f_res in enumerate(fg):\n",
    "    savemat('f_results_' + str(ind) + '.mat', f_res._asdict())"
   ]
  }
 ],
 "metadata": {
  "kernelspec": {
   "display_name": "Python 3",
   "language": "python",
   "name": "python3"
  },
  "language_info": {
   "codemirror_mode": {
    "name": "ipython",
    "version": 3
   },
   "file_extension": ".py",
   "mimetype": "text/x-python",
   "name": "python",
   "nbconvert_exporter": "python",
   "pygments_lexer": "ipython3",
   "version": "3.7.6"
  }
 },
 "nbformat": 4,
 "nbformat_minor": 2
}
